{
 "cells": [
  {
   "cell_type": "markdown",
   "metadata": {},
   "source": [
    "# 定位\n",
    "\n",
    "## 介绍\n",
    "\n",
    "该模块提供定位服务。默认情况下有两种方法。一种是结合GPS和IMU信息的RTK（Real Time Kinematic实时运动）方法，另一种是融合GPS、IMU和激光雷达信息的多传感器融合方法。\n",
    "\n",
    "## 输入\n",
    "\n",
    "在提供的RTK方法中，有两个输入：\n",
    "\n",
    "* GPS-全球定位系统。\n",
    "* IMU-惯性测量单元。\n",
    "\n",
    "在所提供的多传感器融合定位方法中，有三个输入：\n",
    "\n",
    "* GPS-全球定位系统。\n",
    "* IMU-惯性测量单元。\n",
    "* 激光雷达-光探测与测距传感器\n",
    "欲了解更多信息，请参阅多传感器融合定位。\n",
    "\n",
    "## 输出\n",
    "\n",
    "* 一个Protobuf message类型的`LocalizationEstimate`实例，它可以在`localization/proto/localization.proto`中找到。"
   ]
  },
  {
   "cell_type": "markdown",
   "metadata": {},
   "source": [
    "# 原理， 卡尔曼滤波\n",
    "\n",
    "Apollo使用基于GPS、IMU和激光雷达的多传感器融合定位系统。利用了不同传感器的互补优势，也提高了稳定性和准确性。\n",
    "\n",
    "Apollo定位模块依赖于IMU, GPS, 激光雷达, 雷达和高精度地图。这些传感器，同时支持GNSS定位和LiDAR定位，GNSS定位输出位置\n",
    "和速度信息，LiDAR定位输出位置和行进方向信息，通过卡尔曼滤波融合框架将这些输出结合在一起，\n",
    "\n",
    "Apollo的惯性导航系统，用于卡尔曼滤波的预测步骤，GNSS和LiDAR定位用于卡尔曼滤波的测量结果更新步骤；\n",
    "\n",
    "![](./kalman-filter.png)"
   ]
  },
  {
   "cell_type": "code",
   "execution_count": null,
   "metadata": {},
   "outputs": [],
   "source": [
    "关于 Apollo 定位的论文:https://arxiv.org/pdf/1711.05805.pdf"
   ]
  },
  {
   "cell_type": "markdown",
   "metadata": {},
   "source": [
    "\n",
    "## 添加定位实现\n",
    "\n",
    "目前，RTK方案是在类`RTKLocalization`中实现的。如果一个新的定位方法需要用一个名字（例如`FooLocalization`）来实现，你可以遵循以下步骤：\n",
    "\n",
    "1. 在`proto/localization_config.proto`的`LocalizationType enum type`中添加Foo。\n",
    "\n",
    "1. 转到`modules/localization`目录，并创建一个Foo目录。在Foo目录中，根据rtk目录中的`RTKLocalization`类增加`FooLocalization`类。`FooLocalization`必须是`LocalizationBase`的子类。根据`rtk/BUILD`还需创建文件`foo/BUILD`。\n",
    "\n",
    "1. 您需要在函数`Localization::RegisterLocalizationMethods()`中注册`FooLocalization`，它位于CPP文件`localization.cc`中。您可以通过在函数的末尾插入以下代码来注册：\n",
    "```\n",
    "localization_factory_.Register(LocalizationConfig::FOO, []()->LocalizationBase* { return new FooLocalization(); });\n",
    "```\n",
    "请确保您的代码可以编译包含`FooLocalization`的头文件。\n",
    "\n",
    "1. 现在你可以回到apollo根目录，用命令`bash apollo.sh build`构建你的代码。\n"
   ]
  },
  {
   "cell_type": "code",
   "execution_count": null,
   "metadata": {},
   "outputs": [],
   "source": []
  }
 ],
 "metadata": {
  "kernelspec": {
   "display_name": "Python 3",
   "language": "python",
   "name": "python3"
  },
  "language_info": {
   "codemirror_mode": {
    "name": "ipython",
    "version": 3
   },
   "file_extension": ".py",
   "mimetype": "text/x-python",
   "name": "python",
   "nbconvert_exporter": "python",
   "pygments_lexer": "ipython3",
   "version": "3.7.0"
  }
 },
 "nbformat": 4,
 "nbformat_minor": 2
}
