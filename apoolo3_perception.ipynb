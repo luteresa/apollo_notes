{
 "cells": [
  {
   "cell_type": "markdown",
   "metadata": {},
   "source": [
    "# 感知\n",
    "\n",
    "对于每个无人驾驶汽车，它的核心竞争力之一，是利用海量的传感器数据，模仿人脑来理解这个世界；\n",
    "\n",
    "apollo感知：https://github.com/ApolloAuto/apollo/tree/master/modules/perception"
   ]
  },
  {
   "cell_type": "markdown",
   "metadata": {},
   "source": [
    "## 计算机视觉\n",
    "\n",
    "无人驾驶有四个感知世界的核心任务：\n",
    "\n",
    "检测：找出物体在环境中的位置；\n",
    "\n",
    "分类：明确对象是什么；\n",
    "\n",
    "跟踪：随时间的推移观察移动物体，如其他车辆、自行车或行人；\n",
    "\n",
    "语义分割： 将图像中的每个像素与语义类别进行匹配，如道路、汽车或天空；\n",
    "\n",
    "![](./11perception1.png)"
   ]
  },
  {
   "cell_type": "markdown",
   "metadata": {},
   "source": [
    "### 图像分类器，\n",
    "\n",
    "将图像作为输入，并输出图像的标签；分类器可以识别交通标志，道路，甚至可以识别一个人实在走路，还是在跑步；\n",
    "\n",
    "分类器有很多种，但它们都包含一系列类似的步骤，\n",
    "\n",
    "step1:计算机接收类似摄像头等设备的输入，然后通过预处理发送图像；\n",
    "\n",
    "step2:预处理,对图像进行了标准化处理，包括调整大小，旋转，颜色空间转换等，\n",
    "\n",
    "step3: 提取特征，特征有助于计算机理解图像，例如将汽车和自行车去分开的特征；\n",
    "\n",
    "step4: 分类，将特征输入到分类模型中\n",
    "\n",
    "![](./11perception2.png)"
   ]
  }
 ],
 "metadata": {
  "kernelspec": {
   "display_name": "Python 3",
   "language": "python",
   "name": "python3"
  },
  "language_info": {
   "codemirror_mode": {
    "name": "ipython",
    "version": 3
   },
   "file_extension": ".py",
   "mimetype": "text/x-python",
   "name": "python",
   "nbconvert_exporter": "python",
   "pygments_lexer": "ipython3",
   "version": "3.7.7"
  }
 },
 "nbformat": 4,
 "nbformat_minor": 4
}
