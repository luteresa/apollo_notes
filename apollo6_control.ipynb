{
 "cells": [
  {
   "cell_type": "markdown",
   "metadata": {},
   "source": [
    "Apollo控制模块：https://github.com/ApolloAuto/apollo/tree/master/modules/control\n",
    "\n",
    "对于汽车而言，最基本的控制为转向、加速和制动\n",
    "\n",
    "控制系统的目标是，使用可行的控制输入、最大限度地降低与目标轨迹的偏差，最大限度的提高乘客的舒适度；\n",
    "\n",
    "控制，是一门让汽车在既定轨迹上平稳运行的学问；\n",
    "\n",
    "Apollo支持三种控制器，PID，LQR，MPC"
   ]
  },
  {
   "cell_type": "markdown",
   "metadata": {},
   "source": [
    "## PID控制器\n",
    "\n",
    "PID控制器是指P(Proportion 比例)、I（Integral 积分），D(Derivative 微分) ，这三项如何使用误差来产生控制指令。\n",
    "\n",
    "详细参考：https://blog.csdn.net/luteresa/article/details/104582500"
   ]
  },
  {
   "cell_type": "markdown",
   "metadata": {},
   "source": [
    "## LQR 线性二次调节器"
   ]
  },
  {
   "cell_type": "markdown",
   "metadata": {},
   "source": [
    "是基于模型的控制器，\n",
    "\n",
    "Apollo的LQR实现：https://github.com/ApolloAuto/apollo/blob/master/modules/common/math/linear_quadratic_regulator.cc\n",
    "\n",
    "LQR的python实现：https://python-control.readthedocs.io/en/latest/generated/control.lqr.html\n",
    "    "
   ]
  },
  {
   "cell_type": "markdown",
   "metadata": {},
   "source": [
    "## MPC 模型预测控制\n",
    "\n",
    "是一种更复杂的控制器，它非常依赖于数学优化，基本上可以将MPC归结为三个步骤；\n",
    "\n",
    "1.建立车辆模型；\n",
    "\n",
    "2.使用优化引擎计算有限时间范围内的控制输入；\n",
    "\n",
    "3.执行第一组控制输入；\n",
    "\n",
    "MPC是一个重复过程，它着眼未来，计算一系列控制输入，并优化该序列，但是控制器实际上只实现了\n",
    "序列中的第一组控制输入，然后控制器再次重复该循环。\n",
    "\n",
    "为什么不执行整个控制输入序列呢，因为我们只采用了近似测量与计算，如果实现整个控制输入序列，误差会很大；\n",
    "最好在每个时间步不断地重新评估控制输入的最优序列。"
   ]
  },
  {
   "cell_type": "markdown",
   "metadata": {},
   "source": [
    "MPC优化\n",
    "\n",
    "模型，约束，成本函数"
   ]
  },
  {
   "cell_type": "markdown",
   "metadata": {},
   "source": [
    "模型优劣对比\n",
    "\n",
    "模型预测控制考虑了车辆模型，因此比PID控制更精确，它也适用于不同的成本函数，\n",
    "所以我们可以在不同情况下优化不同的成本，\n",
    "另一方面与PID控制相比，模型预测控制相对更复杂、更缓慢、更难以实现，在实践中，无人驾驶车的控制\n",
    "可扩展性的重要程度，通常意味着值得为MPC投入实现成本，所以MPC成为了一个非常重要的无人驾驶控制器；"
   ]
  }
 ],
 "metadata": {
  "kernelspec": {
   "display_name": "Python 3",
   "language": "python",
   "name": "python3"
  },
  "language_info": {
   "codemirror_mode": {
    "name": "ipython",
    "version": 3
   },
   "file_extension": ".py",
   "mimetype": "text/x-python",
   "name": "python",
   "nbconvert_exporter": "python",
   "pygments_lexer": "ipython3",
   "version": "3.7.7"
  }
 },
 "nbformat": 4,
 "nbformat_minor": 4
}
