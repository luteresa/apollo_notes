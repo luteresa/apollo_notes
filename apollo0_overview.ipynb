{
 "cells": [
  {
   "cell_type": "markdown",
   "metadata": {},
   "source": [
    "apollo:https://github.com/ApolloAuto/apollo"
   ]
  },
  {
   "cell_type": "markdown",
   "metadata": {},
   "source": [
    "Apollo 无人驾驶平台是以高精地图和定位作模块为核心。其他的模块都是以这两个模块为基础。\n",
    "\n",
    "![](./01apollo_structure.png)"
   ]
  },
  {
   "cell_type": "markdown",
   "metadata": {},
   "source": [
    "Apollo硬件平台：\n",
    "\n",
    "![](./02apoll_car_hard_platform.png)\n",
    "\n",
    "https://github.com/ApolloAuto/apollo/blob/master/docs/quickstart/apollo_2_0_hardware_system_installation_guide_v1.md"
   ]
  },
  {
   "cell_type": "markdown",
   "metadata": {},
   "source": [
    "# 开源软件栈：\n",
    "\n",
    "## 实时系统\n",
    "\n",
    "包括实时操作系统，运行时框架和应用程序模块层；\n",
    "\n",
    "![](./03rtos.png)\n",
    "\n",
    "## 共享内存\n",
    "\n",
    "Apollo团队改进了共享内存的功能和性能，去中心化和数据兼容性，共享内存降低了需要访问不同\n",
    "模块时的数据复制需求，对于一传多的模型，共享内存支持\"一次吸入，多次读取\"模式；\n",
    "\n",
    "![](04share_memory.png)\n",
    "\n",
    "## 去中心化：\n",
    "\n",
    "Apollo用公共区域取代了原来的ROS主节点，因此消除了单点故障风险；\n",
    "\n",
    "![](./05ros_node.png)\n",
    "\n",
    "## protobuf\n",
    "\n",
    "protobuf，替代原声ROS消息，protobuf是一种结构化数据序列化方法，这对开发用于通过电线彼此通信\n",
    "或用于存储数据的程序非常有用，可以将新字段添加到消息格式中，而不会破坏向后兼容性；\n",
    "\n",
    "![](./06protobuf.png)\n",
    "\n",
    "向ROS添加protobuf格式有助于apollo的长期发展；\n",
    "\n",
    "https://github.com/google/protobuf"
   ]
  },
  {
   "cell_type": "markdown",
   "metadata": {},
   "source": [
    "# 应用程序模块：\n",
    "apollo的软件平台具有各种模块，包括MAP引擎，定位，感知，规划，控制，端到端驾驶以及人机接口,每个模块都有自己的算法库；\n",
    "\n",
    "模块之间关系非常复杂，\n",
    "![](./07soft.png)"
   ]
  },
  {
   "cell_type": "code",
   "execution_count": null,
   "metadata": {},
   "outputs": [],
   "source": [
    "云服务\n",
    "\n",
    "apollo云服务不仅仅是存储数据，它提供了许多应用程序，包括可加快构建和训练无人驾驶车软件过程的工具；\n",
    "\n",
    "高精度地图、仿真环境、数据平台、安全、空中软件升级、DuerOS只能语音系统，\n",
    "\n",
    "仿真环境平台\n",
    "是apollo开放软件栈的重要工具，该平台可以根据个人需要构建方针环境，还聚合了大量驾驶数据，使开发人员能够体验和验证无人驾驶软件系统。\n",
    "\n",
    "\n",
    "仿真环境使apollo车辆，不仅可以查看环境，还可以理解的道路情况和场景，仿真环境平台允许开发人员\n",
    "\n",
    "配置不同的驾驶场景，比如障碍物，路线和交通灯状态，\n",
    "\n",
    "执行模式为开发人员提供了一个在多个场景中运转的完整装置；在执行模式中，开发人员可以在apollo环境中上传和验证模块；\n",
    "\n",
    "当前自动评分系统，从几个指标对场景进行评估，其\n",
    "中包括：碰撞检测、交通灯识别、速度限制、障碍物检测和路线逻辑，\n",
    "\n",
    "最后，三维可视化\n",
    "\n",
    "描述了实时路况，在现实无人车状态的同时，使模块输出可视化，数据对无人车来说很重要，无人驾驶数据可能来自模拟场景或道路测试，\n",
    "\n",
    "apollo为着写类别提供了各种各样的数据，仿真场景数据有两个不同的来源，记录场景和虚拟场景，我们可以使用记录的场景来重放我们在实际\n",
    "\n",
    "道路测试中已经观察到的传感器数据，\n",
    "\n",
    "可以借助虚拟场景，使用虚拟编辑器创建新的驾驶场景；这有助于快速检验与验证算法；\n",
    "\n",
    "为了训练像深度学习网络那样的机器学习模型，我们需要带标签的注释数据，比如交通灯信号，带边界框的障碍物数据，以及语义分割数据，\n",
    "\n",
    "此外apollo已向公众发布了apolloScape的数据集，apolloScape涵盖了各种复杂路况，apolloScape在单个图像中列入并注释了多大162辆车或80个行人。\n",
    "\n",
    "同时开放数据集使用，语义分割对图像进行逐像素标记，这使得apolloScape成为世界上最为复杂又最精确的无人驾驶数据集。\n",
    "\n",
    "apolloScape云服务也提供了信息安全，DuerOS和无线更新等其他模块内容。\n",
    "\n"
   ]
  }
 ],
 "metadata": {
  "kernelspec": {
   "display_name": "Python 3",
   "language": "python",
   "name": "python3"
  },
  "language_info": {
   "codemirror_mode": {
    "name": "ipython",
    "version": 3
   },
   "file_extension": ".py",
   "mimetype": "text/x-python",
   "name": "python",
   "nbconvert_exporter": "python",
   "pygments_lexer": "ipython3",
   "version": "3.7.7"
  }
 },
 "nbformat": 4,
 "nbformat_minor": 4
}
