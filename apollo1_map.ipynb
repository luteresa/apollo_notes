{
 "cells": [
  {
   "cell_type": "markdown",
   "metadata": {},
   "source": [
    "高精度地图\n",
    "\n",
    "文档：https://github.com/ApolloAuto/apollo/tree/master/modules/map\n",
    "\n",
    "高精度地图使车辆能够达到厘米级的精度；\n",
    "\n",
    "高精度地图包含大量驾驶辅助信息，最重要的信息是道路网的精确三维表征；\n",
    "\n",
    "包含基本的道路网络，道路名称和地点位置，道路限速，交通灯和其他交通管制信息；城市的三维模型，包括道路，建筑物，隧道等；\n",
    "\n",
    "高精度地图是apollo的核心，因为许多其他无人驾驶车模块都有赖于高精度地图；"
   ]
  },
  {
   "cell_type": "markdown",
   "metadata": {},
   "source": [
    "高精地图用于定位：\n",
    "\n",
    "有了高精度地图，就可以在地图上进行自定位；\n",
    "首先车辆可能会寻找地标，可以使用各类传感器手机数据，如摄像机图像数据，以及激光雷达收集的点云数据来查找地标；\n",
    "\n",
    "车辆将其收集的地表与高精度地图上的已知地标进行比较，结果匹配预处理，坐标转换和数据融合的复杂过程，将来自车辆和传感器的数据合并；\n",
    "\n",
    "就可以确定无人车的精确位置；\n",
    "\n"
   ]
  },
  {
   "cell_type": "code",
   "execution_count": 2,
   "metadata": {},
   "outputs": [
    {
     "ename": "SyntaxError",
     "evalue": "invalid character in identifier (<ipython-input-2-faeba44f4d94>, line 1)",
     "output_type": "error",
     "traceback": [
      "\u001b[0;36m  File \u001b[0;32m\"<ipython-input-2-faeba44f4d94>\"\u001b[0;36m, line \u001b[0;32m1\u001b[0m\n\u001b[0;31m    高精地图用于感知：\u001b[0m\n\u001b[0m            ^\u001b[0m\n\u001b[0;31mSyntaxError\u001b[0m\u001b[0;31m:\u001b[0m invalid character in identifier\n"
     ]
    }
   ],
   "source": [
    "高精地图用于感知：\n",
    "\n",
    "传感器检测受距离限制，恶劣天气，更加严重，传感器无法透过障碍物来确定障碍物后面的物体，这种情况下，高精度地图就有很大帮助；\n",
    "\n",
    "即使传感器未检测到交通信号灯，它也可以将交通信号灯的位置提供给软件栈的其余部分；\n",
    "\n",
    "另一个好处在于，地图可帮助传感器缩小检测范围；ROI可提高检测精确度和速度；"
   ]
  },
  {
   "cell_type": "markdown",
   "metadata": {},
   "source": [
    "高精地图用于规划：\n",
    "\n",
    "高精地图可以帮助无人车找到合适的行车空间，还可以帮组规划器确定不同的路线选择，并帮助软件预测其他车辆在未来的位置；\n",
    "\n",
    "高精地图可以帮助车辆缩小选择范围，以便选择更佳方案；\n",
    "\n",
    "![](./09map.png)\n"
   ]
  },
  {
   "cell_type": "markdown",
   "metadata": {},
   "source": [
    "\n",
    "![](./09map2.png)"
   ]
  },
  {
   "cell_type": "markdown",
   "metadata": {},
   "source": [
    "\n",
    "![](./09map3.png)"
   ]
  },
  {
   "cell_type": "code",
   "execution_count": 4,
   "metadata": {},
   "outputs": [
    {
     "ename": "SyntaxError",
     "evalue": "invalid character in identifier (<ipython-input-4-8c2c05647ea4>, line 1)",
     "output_type": "error",
     "traceback": [
      "\u001b[0;36m  File \u001b[0;32m\"<ipython-input-4-8c2c05647ea4>\"\u001b[0;36m, line \u001b[0;32m1\u001b[0m\n\u001b[0;31m    高精度地图的构建分为5个步骤：\u001b[0m\n\u001b[0m                  ^\u001b[0m\n\u001b[0;31mSyntaxError\u001b[0m\u001b[0;31m:\u001b[0m invalid character in identifier\n"
     ]
    }
   ],
   "source": [
    "高精度地图的构建分为5个步骤：\n",
    "\n",
    "数据采集，数据处理，对象检测，手动验证和地图发布\n",
    "\n",
    "![](./09map4.png)\n",
    "\n",
    "apollo使用众包，意味着apollo想公众发布其数据采集工具，以便任何人都可以参与制作高精度地图的任务 ；\n",
    "\n",
    "高精度地图可通过智能手机，智能信息娱乐系统甚至是其他五人驾驶车来实现\n",
    "\n",
    "众包加快了apoll高精地图的更新和维护；\n"
   ]
  },
  {
   "cell_type": "code",
   "execution_count": 5,
   "metadata": {},
   "outputs": [
    {
     "ename": "SyntaxError",
     "evalue": "invalid syntax (<ipython-input-5-16da0b5c63ef>, line 2)",
     "output_type": "error",
     "traceback": [
      "\u001b[0;36m  File \u001b[0;32m\"<ipython-input-5-16da0b5c63ef>\"\u001b[0;36m, line \u001b[0;32m2\u001b[0m\n\u001b[0;31m    高精度地图是 Apollo 的重要组成部分。 百度可以为学员提供高精度，高质量和最适合 Apollo 代码的高精度地图服务支持。\u001b[0m\n\u001b[0m                ^\u001b[0m\n\u001b[0;31mSyntaxError\u001b[0m\u001b[0;31m:\u001b[0m invalid syntax\n"
     ]
    }
   ],
   "source": [
    "高精度地图服务\n",
    "高精度地图是 Apollo 的重要组成部分。 百度可以为学员提供高精度，高质量和最适合 Apollo 代码的高精度地图服务支持。\n",
    "\n",
    "在装备所需硬件的 Apollo 汽车后，Apollo 合作伙伴可以在特定条件下接收高精度地图技术支持，以进行无人驾驶路测。\n",
    "\n",
    "https://apollo.auto/\n"
   ]
  }
 ],
 "metadata": {
  "kernelspec": {
   "display_name": "Python 3",
   "language": "python",
   "name": "python3"
  },
  "language_info": {
   "codemirror_mode": {
    "name": "ipython",
    "version": 3
   },
   "file_extension": ".py",
   "mimetype": "text/x-python",
   "name": "python",
   "nbconvert_exporter": "python",
   "pygments_lexer": "ipython3",
   "version": "3.7.7"
  }
 },
 "nbformat": 4,
 "nbformat_minor": 4
}
